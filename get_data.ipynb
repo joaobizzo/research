{
 "cells": [
  {
   "cell_type": "code",
   "execution_count": 32,
   "metadata": {},
   "outputs": [],
   "source": [
    "import mediapipe as mp\n",
    "import cv2\n",
    "import matplotlib.pyplot as plt\n"
   ]
  },
  {
   "cell_type": "code",
   "execution_count": 37,
   "metadata": {},
   "outputs": [],
   "source": [
    "from mediapipe import solutions\n",
    "from mediapipe.framework.formats import landmark_pb2\n",
    "import numpy as np\n",
    "\n",
    "MARGIN = 10  # pixels\n",
    "FONT_SIZE = 1\n",
    "FONT_THICKNESS = 1\n",
    "HANDEDNESS_TEXT_COLOR = (88, 205, 54) # vibrant green"
   ]
  },
  {
   "cell_type": "code",
   "execution_count": 38,
   "metadata": {},
   "outputs": [],
   "source": [
    "# STEP 3: Load the input image.\n",
    "image = mp.Image.create_from_file(\"images/image1.jpeg\")"
   ]
  },
  {
   "cell_type": "code",
   "execution_count": 39,
   "metadata": {},
   "outputs": [],
   "source": [
    "# STEP 1: Import the necessary modules.\n",
    "import mediapipe as mp\n",
    "from mediapipe.tasks import python\n",
    "from mediapipe.tasks.python import vision\n",
    "import pandas as pd\n",
    "\n",
    "# STEP 2: Create an HandLandmarker object.\n",
    "base_options = python.BaseOptions(model_asset_path='hand_landmarker.task')\n",
    "options = vision.HandLandmarkerOptions(base_options=base_options,\n",
    "                                       num_hands=2)\n",
    "detector = vision.HandLandmarker.create_from_options(options)"
   ]
  },
  {
   "cell_type": "code",
   "execution_count": 40,
   "metadata": {},
   "outputs": [
    {
     "name": "stderr",
     "output_type": "stream",
     "text": [
      "/home/joao/anaconda3/lib/python3.9/site-packages/google/protobuf/symbol_database.py:78: UserWarning: SymbolDatabase.GetPrototype() is deprecated. Please use message_factory.GetMessageClass() instead. SymbolDatabase.GetPrototype() will be removed soon.\n",
      "  warnings.warn('SymbolDatabase.GetPrototype() is deprecated. Please '\n"
     ]
    }
   ],
   "source": [
    "# STEP 4: Detect hand landmarks from the input image.\n",
    "detection_result = detector.detect(image)"
   ]
  },
  {
   "cell_type": "code",
   "execution_count": 44,
   "metadata": {},
   "outputs": [],
   "source": [
    "hand_landmarks_list = detection_result.hand_landmarks\n",
    "handedness_list = detection_result.handedness"
   ]
  },
  {
   "cell_type": "code",
   "execution_count": 46,
   "metadata": {},
   "outputs": [
    {
     "name": "stdout",
     "output_type": "stream",
     "text": [
      "[NormalizedLandmark(x=0.48669159412384033, y=0.841986894607544, z=3.379066697561939e-07, visibility=0.0, presence=0.0), NormalizedLandmark(x=0.39080435037612915, y=0.743610143661499, z=-0.05455343425273895, visibility=0.0, presence=0.0), NormalizedLandmark(x=0.31221964955329895, y=0.6146195530891418, z=-0.08601563423871994, visibility=0.0, presence=0.0), NormalizedLandmark(x=0.24279066920280457, y=0.5166422128677368, z=-0.11597941815853119, visibility=0.0, presence=0.0), NormalizedLandmark(x=0.165911465883255, y=0.46417614817619324, z=-0.1460321843624115, visibility=0.0, presence=0.0), NormalizedLandmark(x=0.4450366497039795, y=0.4514409899711609, z=-0.038028448820114136, visibility=0.0, presence=0.0), NormalizedLandmark(x=0.43562132120132446, y=0.3063657283782959, z=-0.07086575776338577, visibility=0.0, presence=0.0), NormalizedLandmark(x=0.4349901080131531, y=0.21850693225860596, z=-0.10189125686883926, visibility=0.0, presence=0.0), NormalizedLandmark(x=0.4374980330467224, y=0.14108625054359436, z=-0.12808629870414734, visibility=0.0, presence=0.0), NormalizedLandmark(x=0.5349047780036926, y=0.45227426290512085, z=-0.04232098534703255, visibility=0.0, presence=0.0), NormalizedLandmark(x=0.5525288581848145, y=0.3053815960884094, z=-0.07005402445793152, visibility=0.0, presence=0.0), NormalizedLandmark(x=0.5634109377861023, y=0.2157895267009735, z=-0.0956171378493309, visibility=0.0, presence=0.0), NormalizedLandmark(x=0.5694568157196045, y=0.14128297567367554, z=-0.1176656112074852, visibility=0.0, presence=0.0), NormalizedLandmark(x=0.6108468174934387, y=0.4907822608947754, z=-0.05568048730492592, visibility=0.0, presence=0.0), NormalizedLandmark(x=0.6542971134185791, y=0.3654082715511322, z=-0.08505834639072418, visibility=0.0, presence=0.0), NormalizedLandmark(x=0.6779106855392456, y=0.2847035229206085, z=-0.1118699237704277, visibility=0.0, presence=0.0), NormalizedLandmark(x=0.6938185691833496, y=0.21439960598945618, z=-0.13271455466747284, visibility=0.0, presence=0.0), NormalizedLandmark(x=0.6730789542198181, y=0.5537101030349731, z=-0.07550101727247238, visibility=0.0, presence=0.0), NormalizedLandmark(x=0.7364441752433777, y=0.4695187211036682, z=-0.10103971511125565, visibility=0.0, presence=0.0), NormalizedLandmark(x=0.7733114361763, y=0.40950727462768555, z=-0.11836133152246475, visibility=0.0, presence=0.0), NormalizedLandmark(x=0.8003655076026917, y=0.3507341146469116, z=-0.13252748548984528, visibility=0.0, presence=0.0)]\n"
     ]
    }
   ],
   "source": [
    "print(hand_landmarks_list[0])"
   ]
  },
  {
   "cell_type": "code",
   "execution_count": null,
   "metadata": {},
   "outputs": [],
   "source": []
  },
  {
   "cell_type": "code",
   "execution_count": null,
   "metadata": {},
   "outputs": [],
   "source": []
  },
  {
   "cell_type": "code",
   "execution_count": null,
   "metadata": {},
   "outputs": [],
   "source": []
  }
 ],
 "metadata": {
  "kernelspec": {
   "display_name": "base",
   "language": "python",
   "name": "python3"
  },
  "language_info": {
   "codemirror_mode": {
    "name": "ipython",
    "version": 3
   },
   "file_extension": ".py",
   "mimetype": "text/x-python",
   "name": "python",
   "nbconvert_exporter": "python",
   "pygments_lexer": "ipython3",
   "version": "3.9.12"
  },
  "orig_nbformat": 4
 },
 "nbformat": 4,
 "nbformat_minor": 2
}
